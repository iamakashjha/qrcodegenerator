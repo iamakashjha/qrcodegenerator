{
 "cells": [
  {
   "cell_type": "markdown",
   "id": "fbad89aa",
   "metadata": {},
   "source": [
    "# QR Code Generator\n",
    "Creating QR Code generator for the user for any link"
   ]
  },
  {
   "cell_type": "code",
   "execution_count": 4,
   "id": "10ce2f5f",
   "metadata": {},
   "outputs": [],
   "source": [
    "# importing qrcode module\n",
    "\n",
    "import qrcode as qr"
   ]
  },
  {
   "cell_type": "code",
   "execution_count": 5,
   "id": "19ee12be",
   "metadata": {},
   "outputs": [
    {
     "name": "stdout",
     "output_type": "stream",
     "text": [
      "Enter the URL here: https://www.linkedin.com/in/iamakashjha/\n"
     ]
    },
    {
     "data": {
      "image/png": "[encoded data removed]",
      "text/plain": [
       "<qrcode.image.pil.PilImage at 0x1115ed150>"
      ]
     },
     "execution_count": 5,
     "metadata": {},
     "output_type": "execute_result"
    }
   ],
   "source": [
    "# taking URL from the user and generate the code\n",
    "\n",
    "img = qr.make(input(\"Enter the URL here: \"))\n",
    "img"
   ]
  },
  {
   "cell_type": "markdown",
   "id": "e30cabc1",
   "metadata": {},
   "source": []
  }
 ],
 "metadata": {
  "kernelspec": {
   "display_name": "Python 3 (ipykernel)",
   "language": "python",
   "name": "python3"
  },
  "language_info": {
   "codemirror_mode": {
    "name": "ipython",
    "version": 3
   },
   "file_extension": ".py",
   "mimetype": "text/x-python",
   "name": "python",
   "nbconvert_exporter": "python",
   "pygments_lexer": "ipython3",
   "version": "3.11.4"
  }
 },
 "nbformat": 4,
 "nbformat_minor": 5
}
